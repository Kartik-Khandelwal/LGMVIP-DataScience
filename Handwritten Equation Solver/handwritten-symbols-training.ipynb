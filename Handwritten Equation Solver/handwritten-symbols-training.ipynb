{
 "cells": [
  {
   "cell_type": "markdown",
   "id": "1d496a44",
   "metadata": {
    "papermill": {
     "duration": 0.01166,
     "end_time": "2021-10-21T11:57:38.463345",
     "exception": false,
     "start_time": "2021-10-21T11:57:38.451685",
     "status": "completed"
    },
    "tags": []
   },
   "source": [
    "# KARTIK KHANDELWAL\n",
    "## LET'S GROW MORE (VIP)\n",
    "> ### - Data Science Internship\n",
    "### ADVANCED LEVEL TASK - 3"
   ]
  },
  {
   "cell_type": "markdown",
   "id": "e355f6f1",
   "metadata": {
    "papermill": {
     "duration": 0.009956,
     "end_time": "2021-10-21T11:57:38.485175",
     "exception": false,
     "start_time": "2021-10-21T11:57:38.475219",
     "status": "completed"
    },
    "tags": []
   },
   "source": [
    "### *HANDWRITTEN EQUATION SOLVER USING CNN -> Part - 1*\n",
    "> *Dataset - [Handwritten Math Symbols](https://www.kaggle.com/sagyamthapa/handwritten-math-symbols)*"
   ]
  },
  {
   "cell_type": "markdown",
   "id": "2d6f6662",
   "metadata": {
    "papermill": {
     "duration": 0.010169,
     "end_time": "2021-10-21T11:57:38.505122",
     "exception": false,
     "start_time": "2021-10-21T11:57:38.494953",
     "status": "completed"
    },
    "tags": []
   },
   "source": [
    "![](https://images.prismic.io/texthelp-website-proof/75743780-be41-4d83-bd73-728b0add137e_EquatIO+Hero+Product+Screen.png?auto=compress,format)"
   ]
  },
  {
   "cell_type": "code",
   "execution_count": 1,
   "id": "2d3cbfcb",
   "metadata": {
    "execution": {
     "iopub.execute_input": "2021-10-21T11:57:38.537041Z",
     "iopub.status.busy": "2021-10-21T11:57:38.536125Z",
     "iopub.status.idle": "2021-10-21T11:57:43.327480Z",
     "shell.execute_reply": "2021-10-21T11:57:43.326220Z",
     "shell.execute_reply.started": "2021-10-21T11:33:21.961855Z"
    },
    "papermill": {
     "duration": 4.812542,
     "end_time": "2021-10-21T11:57:43.327635",
     "exception": false,
     "start_time": "2021-10-21T11:57:38.515093",
     "status": "completed"
    },
    "tags": []
   },
   "outputs": [],
   "source": [
    "import numpy as np\n",
    "import pandas as pd\n",
    "import matplotlib.pyplot as plt\n",
    "from matplotlib import style\n",
    "style.use('seaborn-darkgrid')\n",
    "import os\n",
    "import tensorflow as tf\n",
    "from tensorflow import keras\n",
    "from keras.applications.mobilenet_v2 import MobileNetV2\n",
    "import warnings\n",
    "warnings.filterwarnings('ignore')\n",
    "from keras.preprocessing.image import ImageDataGenerator"
   ]
  },
  {
   "cell_type": "code",
   "execution_count": 2,
   "id": "bfd8d4fd",
   "metadata": {
    "execution": {
     "iopub.execute_input": "2021-10-21T11:57:43.354074Z",
     "iopub.status.busy": "2021-10-21T11:57:43.353379Z",
     "iopub.status.idle": "2021-10-21T11:57:45.563828Z",
     "shell.execute_reply": "2021-10-21T11:57:45.563253Z",
     "shell.execute_reply.started": "2021-10-21T11:24:38.533932Z"
    },
    "papermill": {
     "duration": 2.226209,
     "end_time": "2021-10-21T11:57:45.563963",
     "exception": false,
     "start_time": "2021-10-21T11:57:43.337754",
     "status": "completed"
    },
    "tags": []
   },
   "outputs": [],
   "source": [
    "sdir = '../input/handwritten-math-symbols/dataset'\n",
    "classlist=os.listdir(sdir)\n",
    "filepaths=[]\n",
    "labels=[]\n",
    "classes=[]\n",
    "for c in classlist:    \n",
    "    classpath=os.path.join(sdir,c)\n",
    "    if os.path.isdir(classpath): \n",
    "        classes.append(c)\n",
    "        flist=os.listdir(classpath)\n",
    "        for f in flist:\n",
    "            fpath=os.path.join(classpath,f)\n",
    "            if os.path.isfile(fpath):\n",
    "                filepaths.append(fpath)\n",
    "                labels.append(c)"
   ]
  },
  {
   "cell_type": "code",
   "execution_count": 3,
   "id": "cee94224",
   "metadata": {
    "execution": {
     "iopub.execute_input": "2021-10-21T11:57:45.596272Z",
     "iopub.status.busy": "2021-10-21T11:57:45.595328Z",
     "iopub.status.idle": "2021-10-21T11:57:45.597273Z",
     "shell.execute_reply": "2021-10-21T11:57:45.597790Z",
     "shell.execute_reply.started": "2021-10-21T11:24:41.379658Z"
    },
    "papermill": {
     "duration": 0.023963,
     "end_time": "2021-10-21T11:57:45.597955",
     "exception": false,
     "start_time": "2021-10-21T11:57:45.573992",
     "status": "completed"
    },
    "tags": []
   },
   "outputs": [],
   "source": [
    "fseries=pd.Series(filepaths, name='filepaths')\n",
    "Lseries=pd.Series (labels, name='labels')\n",
    "df=pd.concat([fseries, Lseries], axis=1)"
   ]
  },
  {
   "cell_type": "code",
   "execution_count": 4,
   "id": "f0d5f916",
   "metadata": {
    "execution": {
     "iopub.execute_input": "2021-10-21T11:57:45.625546Z",
     "iopub.status.busy": "2021-10-21T11:57:45.624669Z",
     "iopub.status.idle": "2021-10-21T11:57:46.024917Z",
     "shell.execute_reply": "2021-10-21T11:57:46.025399Z",
     "shell.execute_reply.started": "2021-10-21T11:24:41.394341Z"
    },
    "papermill": {
     "duration": 0.416931,
     "end_time": "2021-10-21T11:57:46.025557",
     "exception": false,
     "start_time": "2021-10-21T11:57:45.608626",
     "status": "completed"
    },
    "tags": []
   },
   "outputs": [
    {
     "name": "stdout",
     "output_type": "stream",
     "text": [
      "Found 9008 validated image filenames belonging to 16 classes.\n"
     ]
    }
   ],
   "source": [
    "train_gen = ImageDataGenerator(rescale=1./255)\n",
    "\n",
    "training_data = train_gen.flow_from_dataframe(df, x_col= 'filepaths', y_col='labels',\n",
    "                                             target_size=(128,128),\n",
    "                                             batch_size=64,\n",
    "                                             color_mode = \"grayscale\",\n",
    "                                             class_mode = \"categorical\")"
   ]
  },
  {
   "cell_type": "code",
   "execution_count": 5,
   "id": "b83628b5",
   "metadata": {
    "execution": {
     "iopub.execute_input": "2021-10-21T11:57:46.057042Z",
     "iopub.status.busy": "2021-10-21T11:57:46.056200Z",
     "iopub.status.idle": "2021-10-21T12:01:14.367567Z",
     "shell.execute_reply": "2021-10-21T12:01:14.366953Z",
     "shell.execute_reply.started": "2021-10-21T11:24:42.006998Z"
    },
    "papermill": {
     "duration": 208.330276,
     "end_time": "2021-10-21T12:01:14.367748",
     "exception": false,
     "start_time": "2021-10-21T11:57:46.037472",
     "status": "completed"
    },
    "tags": []
   },
   "outputs": [
    {
     "name": "stderr",
     "output_type": "stream",
     "text": [
      "2021-10-21 11:57:46.141392: I tensorflow/stream_executor/cuda/cuda_gpu_executor.cc:937] successful NUMA node read from SysFS had negative value (-1), but there must be at least one NUMA node, so returning NUMA node zero\n",
      "2021-10-21 11:57:46.233066: I tensorflow/stream_executor/cuda/cuda_gpu_executor.cc:937] successful NUMA node read from SysFS had negative value (-1), but there must be at least one NUMA node, so returning NUMA node zero\n",
      "2021-10-21 11:57:46.233869: I tensorflow/stream_executor/cuda/cuda_gpu_executor.cc:937] successful NUMA node read from SysFS had negative value (-1), but there must be at least one NUMA node, so returning NUMA node zero\n",
      "2021-10-21 11:57:46.235191: I tensorflow/core/platform/cpu_feature_guard.cc:142] This TensorFlow binary is optimized with oneAPI Deep Neural Network Library (oneDNN) to use the following CPU instructions in performance-critical operations:  AVX2 AVX512F FMA\n",
      "To enable them in other operations, rebuild TensorFlow with the appropriate compiler flags.\n",
      "2021-10-21 11:57:46.236148: I tensorflow/stream_executor/cuda/cuda_gpu_executor.cc:937] successful NUMA node read from SysFS had negative value (-1), but there must be at least one NUMA node, so returning NUMA node zero\n",
      "2021-10-21 11:57:46.236891: I tensorflow/stream_executor/cuda/cuda_gpu_executor.cc:937] successful NUMA node read from SysFS had negative value (-1), but there must be at least one NUMA node, so returning NUMA node zero\n",
      "2021-10-21 11:57:46.237564: I tensorflow/stream_executor/cuda/cuda_gpu_executor.cc:937] successful NUMA node read from SysFS had negative value (-1), but there must be at least one NUMA node, so returning NUMA node zero\n",
      "2021-10-21 11:57:48.171575: I tensorflow/stream_executor/cuda/cuda_gpu_executor.cc:937] successful NUMA node read from SysFS had negative value (-1), but there must be at least one NUMA node, so returning NUMA node zero\n",
      "2021-10-21 11:57:48.172380: I tensorflow/stream_executor/cuda/cuda_gpu_executor.cc:937] successful NUMA node read from SysFS had negative value (-1), but there must be at least one NUMA node, so returning NUMA node zero\n",
      "2021-10-21 11:57:48.173037: I tensorflow/stream_executor/cuda/cuda_gpu_executor.cc:937] successful NUMA node read from SysFS had negative value (-1), but there must be at least one NUMA node, so returning NUMA node zero\n",
      "2021-10-21 11:57:48.173665: I tensorflow/core/common_runtime/gpu/gpu_device.cc:1510] Created device /job:localhost/replica:0/task:0/device:GPU:0 with 15403 MB memory:  -> device: 0, name: Tesla P100-PCIE-16GB, pci bus id: 0000:00:04.0, compute capability: 6.0\n"
     ]
    },
    {
     "name": "stdout",
     "output_type": "stream",
     "text": [
      "Downloading data from https://storage.googleapis.com/tensorflow/keras-applications/mobilenet_v2/mobilenet_v2_weights_tf_dim_ordering_tf_kernels_1.0_224_no_top.h5\n",
      "9412608/9406464 [==============================] - 0s 0us/step\n",
      "9420800/9406464 [==============================] - 0s 0us/step\n"
     ]
    },
    {
     "name": "stderr",
     "output_type": "stream",
     "text": [
      "2021-10-21 11:57:50.971402: I tensorflow/compiler/mlir/mlir_graph_optimization_pass.cc:185] None of the MLIR Optimization Passes are enabled (registered 2)\n"
     ]
    },
    {
     "name": "stdout",
     "output_type": "stream",
     "text": [
      "Epoch 1/10\n"
     ]
    },
    {
     "name": "stderr",
     "output_type": "stream",
     "text": [
      "2021-10-21 11:57:56.339886: I tensorflow/stream_executor/cuda/cuda_dnn.cc:369] Loaded cuDNN version 8005\n"
     ]
    },
    {
     "name": "stdout",
     "output_type": "stream",
     "text": [
      "141/141 [==============================] - 53s 298ms/step - loss: 0.3062 - accuracy: 0.9063\n",
      "Epoch 2/10\n",
      "141/141 [==============================] - 16s 113ms/step - loss: 0.0303 - accuracy: 0.9907\n",
      "Epoch 3/10\n",
      "141/141 [==============================] - 16s 111ms/step - loss: 0.0181 - accuracy: 0.9953\n",
      "Epoch 4/10\n",
      "141/141 [==============================] - 17s 119ms/step - loss: 0.0127 - accuracy: 0.9960\n",
      "Epoch 5/10\n",
      "141/141 [==============================] - 16s 113ms/step - loss: 0.0076 - accuracy: 0.9978\n",
      "Epoch 6/10\n",
      "141/141 [==============================] - 16s 113ms/step - loss: 0.0137 - accuracy: 0.9966\n",
      "Epoch 7/10\n",
      "141/141 [==============================] - 16s 116ms/step - loss: 0.0160 - accuracy: 0.9950\n",
      "Epoch 8/10\n",
      "141/141 [==============================] - 16s 113ms/step - loss: 0.0119 - accuracy: 0.9962\n",
      "Epoch 9/10\n",
      "141/141 [==============================] - 17s 117ms/step - loss: 0.0130 - accuracy: 0.9958\n",
      "Epoch 10/10\n",
      "141/141 [==============================] - 16s 113ms/step - loss: 0.0151 - accuracy: 0.9958\n"
     ]
    }
   ],
   "source": [
    "from keras.layers import Input, Conv2D\n",
    "input_shape = Input(shape=(128,128,1))\n",
    "conv = Conv2D(3, kernel_size=(3,3), padding='same')(input_shape)\n",
    "mobilenet = MobileNetV2(weights='imagenet', include_top=False, pooling='max')(conv)\n",
    "x=keras.layers.BatchNormalization(axis=-1, momentum=0.99, epsilon=0.001)(mobilenet)\n",
    "x=keras.layers.Dense(128, activation='relu')(x)\n",
    "x=keras.layers.Dropout(rate=.3)(x)\n",
    "output=keras.layers.Dense(len(classes), activation='softmax')(x)\n",
    "\n",
    "model=keras.models.Model(inputs=input_shape, outputs=output)\n",
    "\n",
    "model.compile(keras.optimizers.Adamax(lr=.001), loss='categorical_crossentropy', metrics=['accuracy'])\n",
    "\n",
    "history=model.fit(training_data,  epochs=10)"
   ]
  },
  {
   "cell_type": "code",
   "execution_count": 6,
   "id": "201a9222",
   "metadata": {
    "execution": {
     "iopub.execute_input": "2021-10-21T12:01:15.169783Z",
     "iopub.status.busy": "2021-10-21T12:01:15.159599Z",
     "iopub.status.idle": "2021-10-21T12:01:15.398238Z",
     "shell.execute_reply": "2021-10-21T12:01:15.397728Z",
     "shell.execute_reply.started": "2021-10-21T11:28:28.028099Z"
    },
    "papermill": {
     "duration": 0.644669,
     "end_time": "2021-10-21T12:01:15.398435",
     "exception": false,
     "start_time": "2021-10-21T12:01:14.753766",
     "status": "completed"
    },
    "tags": []
   },
   "outputs": [],
   "source": [
    "model_json = model.to_json()\n",
    "with open(\"model_final.json\", \"w\") as json_file:\n",
    "    json_file.write(model_json)\n",
    "# serialize weights to HDF5\n",
    "model.save_weights(\"model_final.h5\")"
   ]
  },
  {
   "cell_type": "code",
   "execution_count": 7,
   "id": "c5443171",
   "metadata": {
    "execution": {
     "iopub.execute_input": "2021-10-21T12:01:16.185418Z",
     "iopub.status.busy": "2021-10-21T12:01:16.184475Z",
     "iopub.status.idle": "2021-10-21T12:01:16.186203Z",
     "shell.execute_reply": "2021-10-21T12:01:16.186653Z",
     "shell.execute_reply.started": "2021-10-21T11:28:44.258547Z"
    },
    "papermill": {
     "duration": 0.395299,
     "end_time": "2021-10-21T12:01:16.186795",
     "exception": false,
     "start_time": "2021-10-21T12:01:15.791496",
     "status": "completed"
    },
    "tags": []
   },
   "outputs": [],
   "source": [
    "reverse_mapping={0: '0', 1: '1', 2: '2', 3: '3', 4: '4', 5: '5', 6: '6', 7: '7', 8: '8', 9: '9',\n",
    "                 10: 'add', 11: 'dec', 12: 'div', 13: 'eq', 14: 'mul', 15: 'sub'}\n",
    "\n",
    "def mapper(value):\n",
    "    return reverse_mapping[value]"
   ]
  },
  {
   "cell_type": "code",
   "execution_count": 8,
   "id": "4499d51a",
   "metadata": {
    "execution": {
     "iopub.execute_input": "2021-10-21T12:01:16.972052Z",
     "iopub.status.busy": "2021-10-21T12:01:16.971199Z",
     "iopub.status.idle": "2021-10-21T12:01:17.205963Z",
     "shell.execute_reply": "2021-10-21T12:01:17.206511Z",
     "shell.execute_reply.started": "2021-10-21T11:33:36.016150Z"
    },
    "papermill": {
     "duration": 0.626427,
     "end_time": "2021-10-21T12:01:17.206656",
     "exception": false,
     "start_time": "2021-10-21T12:01:16.580229",
     "status": "completed"
    },
    "tags": []
   },
   "outputs": [
    {
     "data": {
      "text/plain": [
       "<matplotlib.image.AxesImage at 0x7fabae640690>"
      ]
     },
     "execution_count": 8,
     "metadata": {},
     "output_type": "execute_result"
    },
    {
     "data": {
      "image/png": "[encoded data removed]",
      "text/plain": [
       "<Figure size 432x288 with 1 Axes>"
      ]
     },
     "metadata": {},
     "output_type": "display_data"
    }
   ],
   "source": [
    "from keras.preprocessing import image\n",
    "test = '../input/handwritten-math-symbols/dataset/5/0mKkrJd4.png'\n",
    "test_image = image.load_img(test, target_size = (128,128),color_mode = \"grayscale\")\n",
    "plt.imshow(test_image)"
   ]
  },
  {
   "cell_type": "code",
   "execution_count": 9,
   "id": "1ba2bb8c",
   "metadata": {
    "execution": {
     "iopub.execute_input": "2021-10-21T12:01:17.991157Z",
     "iopub.status.busy": "2021-10-21T12:01:17.990209Z",
     "iopub.status.idle": "2021-10-21T12:01:18.848245Z",
     "shell.execute_reply": "2021-10-21T12:01:18.847506Z",
     "shell.execute_reply.started": "2021-10-21T11:29:01.142103Z"
    },
    "papermill": {
     "duration": 1.25388,
     "end_time": "2021-10-21T12:01:18.848409",
     "exception": false,
     "start_time": "2021-10-21T12:01:17.594529",
     "status": "completed"
    },
    "tags": []
   },
   "outputs": [
    {
     "name": "stdout",
     "output_type": "stream",
     "text": [
      "Prediction is 5.\n"
     ]
    }
   ],
   "source": [
    "test_img = np.expand_dims(test_image,axis = 0)\n",
    "test_img = test_img.reshape(1,128,128,1)\n",
    "result = model.predict(test_img)\n",
    "value=np.argmax(result)\n",
    "move_name=mapper(value)\n",
    "print(f\"Prediction is {move_name}.\")"
   ]
  },
  {
   "cell_type": "code",
   "execution_count": 10,
   "id": "dac99ee2",
   "metadata": {
    "execution": {
     "iopub.execute_input": "2021-10-21T12:01:19.707526Z",
     "iopub.status.busy": "2021-10-21T12:01:19.702343Z",
     "iopub.status.idle": "2021-10-21T12:01:19.862169Z",
     "shell.execute_reply": "2021-10-21T12:01:19.861440Z",
     "shell.execute_reply.started": "2021-10-21T11:33:30.826657Z"
    },
    "papermill": {
     "duration": 0.61528,
     "end_time": "2021-10-21T12:01:19.862360",
     "exception": false,
     "start_time": "2021-10-21T12:01:19.247080",
     "status": "completed"
    },
    "tags": []
   },
   "outputs": [
    {
     "data": {
      "image/png": "[encoded data removed]",
      "text/plain": [
       "<Figure size 432x288 with 1 Axes>"
      ]
     },
     "metadata": {},
     "output_type": "display_data"
    }
   ],
   "source": [
    "plt.plot(history.history['accuracy'])\n",
    "plt.plot(history.history['loss'])\n",
    "plt.show()"
   ]
  },
  {
   "cell_type": "code",
   "execution_count": null,
   "id": "2db9b706",
   "metadata": {
    "papermill": {
     "duration": 0.403571,
     "end_time": "2021-10-21T12:01:20.669492",
     "exception": false,
     "start_time": "2021-10-21T12:01:20.265921",
     "status": "completed"
    },
    "tags": []
   },
   "outputs": [],
   "source": []
  },
  {
   "cell_type": "code",
   "execution_count": null,
   "id": "670416e6",
   "metadata": {
    "papermill": {
     "duration": 0.530035,
     "end_time": "2021-10-21T12:01:21.587106",
     "exception": false,
     "start_time": "2021-10-21T12:01:21.057071",
     "status": "completed"
    },
    "tags": []
   },
   "outputs": [],
   "source": []
  }
 ],
 "metadata": {
  "kernelspec": {
   "display_name": "Python 3",
   "language": "python",
   "name": "python3"
  },
  "language_info": {
   "codemirror_mode": {
    "name": "ipython",
    "version": 3
   },
   "file_extension": ".py",
   "mimetype": "text/x-python",
   "name": "python",
   "nbconvert_exporter": "python",
   "pygments_lexer": "ipython3",
   "version": "3.7.10"
  },
  "papermill": {
   "default_parameters": {},
   "duration": 234.715,
   "end_time": "2021-10-21T12:01:24.952570",
   "environment_variables": {},
   "exception": null,
   "input_path": "__notebook__.ipynb",
   "output_path": "__notebook__.ipynb",
   "parameters": {},
   "start_time": "2021-10-21T11:57:30.237570",
   "version": "2.3.3"
  }
 },
 "nbformat": 4,
 "nbformat_minor": 5
}
