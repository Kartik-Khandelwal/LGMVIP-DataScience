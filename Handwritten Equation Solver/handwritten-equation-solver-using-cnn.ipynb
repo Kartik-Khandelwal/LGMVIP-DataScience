{
 "cells": [
  {
   "cell_type": "markdown",
   "id": "62d3e489",
   "metadata": {
    "papermill": {
     "duration": 0.016566,
     "end_time": "2021-10-21T11:57:44.822265",
     "exception": false,
     "start_time": "2021-10-21T11:57:44.805699",
     "status": "completed"
    },
    "tags": []
   },
   "source": [
    "# KARTIK KHANDELWAL\n",
    "## LET'S GROW MORE (VIP)\n",
    "> ### - Data Science Internship\n",
    "### ADVANCED LEVEL TASK - 3"
   ]
  },
  {
   "cell_type": "markdown",
   "id": "6f1a104c",
   "metadata": {
    "papermill": {
     "duration": 0.012573,
     "end_time": "2021-10-21T11:57:44.848096",
     "exception": false,
     "start_time": "2021-10-21T11:57:44.835523",
     "status": "completed"
    },
    "tags": []
   },
   "source": [
    "### *HANDWRITTEN EQUATION SOLVER USING CNN*\n",
    "> *Dataset - [Handwritten Math Symbols](https://www.kaggle.com/sagyamthapa/handwritten-math-symbols)*\n",
    "\n",
    "![](https://images.prismic.io/texthelp-website-proof/75743780-be41-4d83-bd73-728b0add137e_EquatIO+Hero+Product+Screen.png?auto=compress,format)"
   ]
  },
  {
   "cell_type": "code",
   "execution_count": 1,
   "id": "17c1dbca",
   "metadata": {
    "execution": {
     "iopub.execute_input": "2021-10-21T11:57:44.882453Z",
     "iopub.status.busy": "2021-10-21T11:57:44.881813Z",
     "iopub.status.idle": "2021-10-21T11:57:50.241403Z",
     "shell.execute_reply": "2021-10-21T11:57:50.240699Z",
     "shell.execute_reply.started": "2021-10-21T11:49:12.650588Z"
    },
    "papermill": {
     "duration": 5.380594,
     "end_time": "2021-10-21T11:57:50.241569",
     "exception": false,
     "start_time": "2021-10-21T11:57:44.860975",
     "status": "completed"
    },
    "tags": []
   },
   "outputs": [],
   "source": [
    "import numpy as np\n",
    "import pandas as pd\n",
    "import matplotlib.pyplot as plt\n",
    "import cv2\n",
    "import os\n",
    "from keras.models import model_from_json\n",
    "import warnings\n",
    "warnings.filterwarnings('ignore')"
   ]
  },
  {
   "cell_type": "code",
   "execution_count": 2,
   "id": "41cec7cf",
   "metadata": {
    "execution": {
     "iopub.execute_input": "2021-10-21T11:57:50.273501Z",
     "iopub.status.busy": "2021-10-21T11:57:50.272806Z",
     "iopub.status.idle": "2021-10-21T11:57:52.482704Z",
     "shell.execute_reply": "2021-10-21T11:57:52.481952Z",
     "shell.execute_reply.started": "2021-10-21T11:49:13.475120Z"
    },
    "papermill": {
     "duration": 2.227899,
     "end_time": "2021-10-21T11:57:52.482853",
     "exception": false,
     "start_time": "2021-10-21T11:57:50.254954",
     "status": "completed"
    },
    "tags": []
   },
   "outputs": [
    {
     "name": "stderr",
     "output_type": "stream",
     "text": [
      "\n",
      "User settings:\n",
      "\n",
      "   KMP_AFFINITY=granularity=fine,verbose,compact,1,0\n",
      "   KMP_BLOCKTIME=0\n",
      "   KMP_SETTINGS=1\n",
      "   KMP_WARNINGS=0\n",
      "\n",
      "Effective settings:\n",
      "\n",
      "   KMP_ABORT_DELAY=0\n",
      "   KMP_ADAPTIVE_LOCK_PROPS='1,1024'\n",
      "   KMP_ALIGN_ALLOC=64\n",
      "   KMP_ALL_THREADPRIVATE=128\n",
      "   KMP_ATOMIC_MODE=2\n",
      "   KMP_BLOCKTIME=0\n",
      "   KMP_CPUINFO_FILE: value is not defined\n",
      "   KMP_DETERMINISTIC_REDUCTION=false\n",
      "   KMP_DEVICE_THREAD_LIMIT=2147483647\n",
      "   KMP_DISP_NUM_BUFFERS=7\n",
      "   KMP_DUPLICATE_LIB_OK=false\n",
      "   KMP_ENABLE_TASK_THROTTLING=true\n",
      "   KMP_FORCE_REDUCTION: value is not defined\n",
      "   KMP_FOREIGN_THREADS_THREADPRIVATE=true\n",
      "   KMP_FORKJOIN_BARRIER='2,2'\n",
      "   KMP_FORKJOIN_BARRIER_PATTERN='hyper,hyper'\n",
      "   KMP_GTID_MODE=3\n",
      "   KMP_HANDLE_SIGNALS=false\n",
      "   KMP_HOT_TEAMS_MAX_LEVEL=1\n",
      "   KMP_HOT_TEAMS_MODE=0\n",
      "   KMP_INIT_AT_FORK=true\n",
      "   KMP_LIBRARY=throughput\n",
      "   KMP_LOCK_KIND=queuing\n",
      "   KMP_MALLOC_POOL_INCR=1M\n",
      "   KMP_NUM_LOCKS_IN_BLOCK=1\n",
      "   KMP_PLAIN_BARRIER='2,2'\n",
      "   KMP_PLAIN_BARRIER_PATTERN='hyper,hyper'\n",
      "   KMP_REDUCTION_BARRIER='1,1'\n",
      "   KMP_REDUCTION_BARRIER_PATTERN='hyper,hyper'\n",
      "   KMP_SCHEDULE='static,balanced;guided,iterative'\n",
      "   KMP_SETTINGS=true\n",
      "   KMP_SPIN_BACKOFF_PARAMS='4096,100'\n",
      "   KMP_STACKOFFSET=64\n",
      "   KMP_STACKPAD=0\n",
      "   KMP_STACKSIZE=8M\n",
      "   KMP_STORAGE_MAP=false\n",
      "   KMP_TASKING=2\n",
      "   KMP_TASKLOOP_MIN_TASKS=0\n",
      "   KMP_TASK_STEALING_CONSTRAINT=1\n",
      "   KMP_TEAMS_THREAD_LIMIT=4\n",
      "   KMP_TOPOLOGY_METHOD=all\n",
      "   KMP_USE_YIELD=1\n",
      "   KMP_VERSION=false\n",
      "   KMP_WARNINGS=false\n",
      "   OMP_AFFINITY_FORMAT='OMP: pid %P tid %i thread %n bound to OS proc set {%A}'\n",
      "   OMP_ALLOCATOR=omp_default_mem_alloc\n",
      "   OMP_CANCELLATION=false\n",
      "   OMP_DEFAULT_DEVICE=0\n",
      "   OMP_DISPLAY_AFFINITY=false\n",
      "   OMP_DISPLAY_ENV=false\n",
      "   OMP_DYNAMIC=false\n",
      "   OMP_MAX_ACTIVE_LEVELS=1\n",
      "   OMP_MAX_TASK_PRIORITY=0\n",
      "   OMP_NESTED: deprecated; max-active-levels-var=1\n",
      "   OMP_NUM_THREADS: value is not defined\n",
      "   OMP_PLACES: value is not defined\n",
      "   OMP_PROC_BIND='intel'\n",
      "   OMP_SCHEDULE='static'\n",
      "   OMP_STACKSIZE=8M\n",
      "   OMP_TARGET_OFFLOAD=DEFAULT\n",
      "   OMP_THREAD_LIMIT=2147483647\n",
      "   OMP_WAIT_POLICY=PASSIVE\n",
      "   KMP_AFFINITY='verbose,warnings,respect,granularity=fine,compact,1,0'\n",
      "\n",
      "2021-10-21 11:57:50.511548: I tensorflow/core/common_runtime/process_util.cc:146] Creating new thread pool with default inter op setting: 2. Tune using inter_op_parallelism_threads for best performance.\n"
     ]
    }
   ],
   "source": [
    "json_file = open('../input/handwritten-math-symbols-modelh5/model_final.json', 'r')\n",
    "loaded_model_json = json_file.read()\n",
    "json_file.close()\n",
    "loaded_model = model_from_json(loaded_model_json)\n",
    "# load weights into new model\n",
    "loaded_model.load_weights(\"../input/handwritten-math-symbols-modelh5/model_final.h5\")"
   ]
  },
  {
   "cell_type": "code",
   "execution_count": 3,
   "id": "0222f533",
   "metadata": {
    "execution": {
     "iopub.execute_input": "2021-10-21T11:57:52.516051Z",
     "iopub.status.busy": "2021-10-21T11:57:52.515375Z",
     "iopub.status.idle": "2021-10-21T11:57:52.834127Z",
     "shell.execute_reply": "2021-10-21T11:57:52.833588Z",
     "shell.execute_reply.started": "2021-10-21T11:50:08.266768Z"
    },
    "papermill": {
     "duration": 0.336768,
     "end_time": "2021-10-21T11:57:52.834262",
     "exception": false,
     "start_time": "2021-10-21T11:57:52.497494",
     "status": "completed"
    },
    "tags": []
   },
   "outputs": [
    {
     "data": {
      "text/plain": [
       "<matplotlib.image.AxesImage at 0x7ff664159d10>"
      ]
     },
     "execution_count": 3,
     "metadata": {},
     "output_type": "execute_result"
    },
    {
     "data": {
      "image/png": "[encoded data removed]",
      "text/plain": [
       "<Figure size 432x288 with 1 Axes>"
      ]
     },
     "metadata": {
      "needs_background": "light"
     },
     "output_type": "display_data"
    }
   ],
   "source": [
    "img_data = '../input/handwritten-math-symbols-modelh5/test.jpeg'\n",
    "read = plt.imread(img_data, format='jpg')\n",
    "plt.imshow(read)"
   ]
  },
  {
   "cell_type": "code",
   "execution_count": 4,
   "id": "40d5bafa",
   "metadata": {
    "execution": {
     "iopub.execute_input": "2021-10-21T11:57:52.869065Z",
     "iopub.status.busy": "2021-10-21T11:57:52.868423Z",
     "iopub.status.idle": "2021-10-21T11:57:52.904592Z",
     "shell.execute_reply": "2021-10-21T11:57:52.905161Z",
     "shell.execute_reply.started": "2021-10-21T11:50:09.400675Z"
    },
    "papermill": {
     "duration": 0.056273,
     "end_time": "2021-10-21T11:57:52.905354",
     "exception": false,
     "start_time": "2021-10-21T11:57:52.849081",
     "status": "completed"
    },
    "tags": []
   },
   "outputs": [],
   "source": [
    "image = cv2.imread('../input/handwritten-math-symbols-modelh5/test.jpeg')\n",
    "image = cv2.cvtColor(read, cv2.COLOR_BGR2RGB)\n",
    "gray = cv2.cvtColor(image, cv2.COLOR_RGB2GRAY)"
   ]
  },
  {
   "cell_type": "code",
   "execution_count": 5,
   "id": "15d12546",
   "metadata": {
    "execution": {
     "iopub.execute_input": "2021-10-21T11:57:52.942877Z",
     "iopub.status.busy": "2021-10-21T11:57:52.941892Z",
     "iopub.status.idle": "2021-10-21T11:57:52.950152Z",
     "shell.execute_reply": "2021-10-21T11:57:52.949500Z",
     "shell.execute_reply.started": "2021-10-21T11:50:10.200564Z"
    },
    "papermill": {
     "duration": 0.029659,
     "end_time": "2021-10-21T11:57:52.950291",
     "exception": false,
     "start_time": "2021-10-21T11:57:52.920632",
     "status": "completed"
    },
    "tags": []
   },
   "outputs": [],
   "source": [
    "ret, binary = cv2.threshold(gray, 127,255, cv2.THRESH_BINARY_INV)\n",
    "contours, hierarchy = cv2.findContours(binary, cv2.RETR_TREE, cv2.CHAIN_APPROX_SIMPLE)"
   ]
  },
  {
   "cell_type": "code",
   "execution_count": 6,
   "id": "23c76379",
   "metadata": {
    "execution": {
     "iopub.execute_input": "2021-10-21T11:57:52.983403Z",
     "iopub.status.busy": "2021-10-21T11:57:52.982406Z",
     "iopub.status.idle": "2021-10-21T11:57:53.215054Z",
     "shell.execute_reply": "2021-10-21T11:57:53.214521Z",
     "shell.execute_reply.started": "2021-10-21T11:50:10.865993Z"
    },
    "papermill": {
     "duration": 0.250171,
     "end_time": "2021-10-21T11:57:53.215191",
     "exception": false,
     "start_time": "2021-10-21T11:57:52.965020",
     "status": "completed"
    },
    "tags": []
   },
   "outputs": [
    {
     "data": {
      "image/png": "[encoded data removed]",
      "text/plain": [
       "<Figure size 432x288 with 1 Axes>"
      ]
     },
     "metadata": {
      "needs_background": "light"
     },
     "output_type": "display_data"
    }
   ],
   "source": [
    "image = cv2.drawContours(image, contours, -1, (0,255,0), 2)\n",
    "plt.imshow(image)\n",
    "plt.show()"
   ]
  },
  {
   "cell_type": "code",
   "execution_count": 7,
   "id": "87e17a12",
   "metadata": {
    "execution": {
     "iopub.execute_input": "2021-10-21T11:57:53.254755Z",
     "iopub.status.busy": "2021-10-21T11:57:53.254011Z",
     "iopub.status.idle": "2021-10-21T11:57:53.259928Z",
     "shell.execute_reply": "2021-10-21T11:57:53.259209Z",
     "shell.execute_reply.started": "2021-10-21T11:50:11.944911Z"
    },
    "papermill": {
     "duration": 0.029287,
     "end_time": "2021-10-21T11:57:53.260077",
     "exception": false,
     "start_time": "2021-10-21T11:57:53.230790",
     "status": "completed"
    },
    "tags": []
   },
   "outputs": [
    {
     "name": "stdout",
     "output_type": "stream",
     "text": [
      "4\n",
      "[[43, 112, 24, 208], [178, 103, 219, 218], [473, 136, 206, 150], [885, 119, 22, 212]]\n"
     ]
    }
   ],
   "source": [
    "ctrs = contours\n",
    "cnt=sorted(ctrs, key=lambda ctr: cv2.boundingRect(ctr)[0])\n",
    "w=int(128)\n",
    "h=int(128)\n",
    "train_data=[]\n",
    "print(len(cnt))\n",
    "rects=[]\n",
    "for c in cnt :\n",
    "    x,y,w,h= cv2.boundingRect(c)\n",
    "    rect=[x,y,w,h]\n",
    "    rects.append(rect)\n",
    "print(rects)"
   ]
  },
  {
   "cell_type": "code",
   "execution_count": 8,
   "id": "34f6edb6",
   "metadata": {
    "execution": {
     "iopub.execute_input": "2021-10-21T11:57:53.296369Z",
     "iopub.status.busy": "2021-10-21T11:57:53.295363Z",
     "iopub.status.idle": "2021-10-21T11:57:53.303212Z",
     "shell.execute_reply": "2021-10-21T11:57:53.303863Z",
     "shell.execute_reply.started": "2021-10-21T11:50:12.709904Z"
    },
    "papermill": {
     "duration": 0.027926,
     "end_time": "2021-10-21T11:57:53.304035",
     "exception": false,
     "start_time": "2021-10-21T11:57:53.276109",
     "status": "completed"
    },
    "tags": []
   },
   "outputs": [
    {
     "name": "stdout",
     "output_type": "stream",
     "text": [
      "[[0, 0, 0, 0], [0, 0, 0, 0], [0, 0, 0, 0], [0, 0, 0, 0]]\n"
     ]
    }
   ],
   "source": [
    "bool_rect=[]\n",
    "for r in rects:\n",
    "    l=[]\n",
    "    for rec in rects:\n",
    "        flag=0\n",
    "        if rec!=r:\n",
    "            if r[0]<(rec[0]+rec[2]+10) and rec[0]<(r[0]+r[2]+10) and r[1]<(rec[1]+rec[3]+10) and rec[1]<(r[1]+r[3]+10):\n",
    "                flag=1\n",
    "            l.append(flag)\n",
    "        if rec==r:\n",
    "            l.append(0)\n",
    "    bool_rect.append(l)\n",
    "print(bool_rect)"
   ]
  },
  {
   "cell_type": "code",
   "execution_count": 9,
   "id": "fe171f3c",
   "metadata": {
    "execution": {
     "iopub.execute_input": "2021-10-21T11:57:53.339707Z",
     "iopub.status.busy": "2021-10-21T11:57:53.339076Z",
     "iopub.status.idle": "2021-10-21T11:57:53.346902Z",
     "shell.execute_reply": "2021-10-21T11:57:53.346371Z",
     "shell.execute_reply.started": "2021-10-21T11:50:13.364990Z"
    },
    "papermill": {
     "duration": 0.026655,
     "end_time": "2021-10-21T11:57:53.347044",
     "exception": false,
     "start_time": "2021-10-21T11:57:53.320389",
     "status": "completed"
    },
    "tags": []
   },
   "outputs": [
    {
     "name": "stdout",
     "output_type": "stream",
     "text": [
      "0\n"
     ]
    }
   ],
   "source": [
    "dump_rect=[]\n",
    "for i in range(0,len(cnt)):\n",
    "    for j in range(0,len(cnt)):\n",
    "        if bool_rect[i][j]==1:\n",
    "            area1=rects[i][2]*rects[i][3]\n",
    "            area2=rects[j][2]*rects[j][3]\n",
    "            if(area1==min(area1,area2)):\n",
    "                dump_rect.append(rects[i])\n",
    "print(len(dump_rect)) "
   ]
  },
  {
   "cell_type": "code",
   "execution_count": 10,
   "id": "cfc9f492",
   "metadata": {
    "execution": {
     "iopub.execute_input": "2021-10-21T11:57:53.385506Z",
     "iopub.status.busy": "2021-10-21T11:57:53.384769Z",
     "iopub.status.idle": "2021-10-21T11:57:53.387720Z",
     "shell.execute_reply": "2021-10-21T11:57:53.388199Z",
     "shell.execute_reply.started": "2021-10-21T11:50:14.114911Z"
    },
    "papermill": {
     "duration": 0.024691,
     "end_time": "2021-10-21T11:57:53.388390",
     "exception": false,
     "start_time": "2021-10-21T11:57:53.363699",
     "status": "completed"
    },
    "tags": []
   },
   "outputs": [
    {
     "name": "stdout",
     "output_type": "stream",
     "text": [
      "[[43, 112, 24, 208], [178, 103, 219, 218], [473, 136, 206, 150], [885, 119, 22, 212]]\n"
     ]
    }
   ],
   "source": [
    "final_rect=[i for i in rects if i not in dump_rect]\n",
    "print(final_rect)"
   ]
  },
  {
   "cell_type": "code",
   "execution_count": 11,
   "id": "f07d20ce",
   "metadata": {
    "execution": {
     "iopub.execute_input": "2021-10-21T11:57:53.429322Z",
     "iopub.status.busy": "2021-10-21T11:57:53.428688Z",
     "iopub.status.idle": "2021-10-21T11:57:53.433209Z",
     "shell.execute_reply": "2021-10-21T11:57:53.432636Z",
     "shell.execute_reply.started": "2021-10-21T11:50:14.940026Z"
    },
    "papermill": {
     "duration": 0.028197,
     "end_time": "2021-10-21T11:57:53.433374",
     "exception": false,
     "start_time": "2021-10-21T11:57:53.405177",
     "status": "completed"
    },
    "tags": []
   },
   "outputs": [],
   "source": [
    "for r in final_rect:\n",
    "    x=r[0]\n",
    "    y=r[1]\n",
    "    w=r[2]\n",
    "    h=r[3]\n",
    "    im_crop =binary[y:y+h+10,x:x+w+10]\n",
    "\n",
    "\n",
    "    im_resize = cv2.resize(im_crop,(128,128))\n",
    "\n",
    "    im_resize=np.reshape(im_resize,(1,128,128))\n",
    "    train_data.append(im_resize)"
   ]
  },
  {
   "cell_type": "code",
   "execution_count": 12,
   "id": "057febde",
   "metadata": {
    "execution": {
     "iopub.execute_input": "2021-10-21T11:57:53.475084Z",
     "iopub.status.busy": "2021-10-21T11:57:53.474189Z",
     "iopub.status.idle": "2021-10-21T11:57:53.478974Z",
     "shell.execute_reply": "2021-10-21T11:57:53.479577Z",
     "shell.execute_reply.started": "2021-10-21T11:50:16.389867Z"
    },
    "papermill": {
     "duration": 0.02937,
     "end_time": "2021-10-21T11:57:53.479758",
     "exception": false,
     "start_time": "2021-10-21T11:57:53.450388",
     "status": "completed"
    },
    "tags": []
   },
   "outputs": [],
   "source": [
    "reverse_mapping={0: '0', 1: '8', 2: '3', 3: '2', 4: '4', 5: '5', 6: '6', 7: '7', 8: '1', 9: '9',\n",
    "                 10: '+', 11: '.', 12: '/', 13: '=', 14: '*', 15: '-'}\n",
    "\n",
    "def mapper(value):\n",
    "    return reverse_mapping[value]"
   ]
  },
  {
   "cell_type": "code",
   "execution_count": 13,
   "id": "ec5d318a",
   "metadata": {
    "execution": {
     "iopub.execute_input": "2021-10-21T11:57:53.517304Z",
     "iopub.status.busy": "2021-10-21T11:57:53.516651Z",
     "iopub.status.idle": "2021-10-21T11:57:55.154555Z",
     "shell.execute_reply": "2021-10-21T11:57:55.155069Z",
     "shell.execute_reply.started": "2021-10-21T11:50:17.410115Z"
    },
    "papermill": {
     "duration": 1.658421,
     "end_time": "2021-10-21T11:57:55.155241",
     "exception": false,
     "start_time": "2021-10-21T11:57:53.496820",
     "status": "completed"
    },
    "tags": []
   },
   "outputs": [
    {
     "name": "stderr",
     "output_type": "stream",
     "text": [
      "2021-10-21 11:57:53.588085: I tensorflow/compiler/mlir/mlir_graph_optimization_pass.cc:185] None of the MLIR Optimization Passes are enabled (registered 2)\n"
     ]
    },
    {
     "name": "stdout",
     "output_type": "stream",
     "text": [
      "12+1\n"
     ]
    },
    {
     "data": {
      "text/plain": [
       "13"
      ]
     },
     "execution_count": 13,
     "metadata": {},
     "output_type": "execute_result"
    }
   ],
   "source": [
    "equation=''\n",
    "for i in range(len(train_data)):\n",
    "    test_img = np.expand_dims(train_data[i],axis = 0)\n",
    "    test_img = test_img.reshape(1,128,128,1)\n",
    "    result = loaded_model.predict(test_img)\n",
    "    value=np.argmax(result)\n",
    "    move_name=mapper(value)\n",
    "    equation = equation + move_name\n",
    "    \n",
    "print(equation)\n",
    "eval(equation)"
   ]
  },
  {
   "cell_type": "code",
   "execution_count": null,
   "id": "de4f708d",
   "metadata": {
    "papermill": {
     "duration": 0.017402,
     "end_time": "2021-10-21T11:57:55.190474",
     "exception": false,
     "start_time": "2021-10-21T11:57:55.173072",
     "status": "completed"
    },
    "tags": []
   },
   "outputs": [],
   "source": []
  }
 ],
 "metadata": {
  "kernelspec": {
   "display_name": "Python 3",
   "language": "python",
   "name": "python3"
  },
  "language_info": {
   "codemirror_mode": {
    "name": "ipython",
    "version": 3
   },
   "file_extension": ".py",
   "mimetype": "text/x-python",
   "name": "python",
   "nbconvert_exporter": "python",
   "pygments_lexer": "ipython3",
   "version": "3.7.10"
  },
  "papermill": {
   "default_parameters": {},
   "duration": 22.534231,
   "end_time": "2021-10-21T11:57:58.534292",
   "environment_variables": {},
   "exception": null,
   "input_path": "__notebook__.ipynb",
   "output_path": "__notebook__.ipynb",
   "parameters": {},
   "start_time": "2021-10-21T11:57:36.000061",
   "version": "2.3.3"
  }
 },
 "nbformat": 4,
 "nbformat_minor": 5
}
